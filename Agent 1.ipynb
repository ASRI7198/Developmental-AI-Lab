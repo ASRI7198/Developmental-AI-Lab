{
 "cells": [
  {
   "cell_type": "code",
   "execution_count": 7,
   "id": "b1ac0f3a",
   "metadata": {},
   "outputs": [],
   "source": [
    "import random"
   ]
  },
  {
   "cell_type": "code",
   "execution_count": 8,
   "id": "ee7a8c0e",
   "metadata": {},
   "outputs": [],
   "source": [
    "class Agent1:\n",
    "    def __init__(self):\n",
    "        self.states = [[1, 0], [0, 1], [1, 1], [0, 0]]  # [Action,Prediction]\n",
    "        self.correct_predictions = 0\n",
    "        self.action = random.choice([0, 1])\n",
    "        self.prediction = random.choice([0, 1])\n",
    "\n",
    "    def remove_state(self, Action_Prediction):\n",
    "        self.states.remove(Action_Prediction)\n",
    "\n",
    "    def Message(self, outcome):\n",
    "        print(f\"Action: {self.action}, Prediction: {self.prediction}, Outcome: {outcome}, \"\n",
    "              f\"Satisfaction: {self.prediction == outcome}\")\n",
    "\n",
    "    def step(self, outcome):\n",
    "\n",
    "        if not self.prediction == outcome:\n",
    "            liste = [self.action, self.prediction]\n",
    "            self.remove_state(liste)\n",
    "            done=True\n",
    "            while done:\n",
    "                self.action = random.choice([0, 1])\n",
    "                self.prediction = random.choice([0, 1])\n",
    "                liste = [self.action, self.prediction]\n",
    "                if liste in self.states:\n",
    "                    done=True\n",
    "                else:\n",
    "                    done=False\n",
    "\n",
    "\n",
    "\n",
    "        elif self.prediction == outcome:\n",
    "            self.correct_predictions += 1\n",
    "\n",
    "        if self.correct_predictions >= 4:\n",
    "            self.action = 1 - self.action\n",
    "            self.prediction = 1 - self.prediction\n",
    "            self.correct_predictions=0"
   ]
  },
  {
   "cell_type": "code",
   "execution_count": 9,
   "id": "ba22853a",
   "metadata": {},
   "outputs": [],
   "source": [
    "class Environment1:\n",
    "    \"\"\" In Environment 1, action 0 yields outcome 0, action 1 yields outcome 1 \"\"\"\n",
    "\n",
    "    def outcome(self, _action):\n",
    "        # return int(input(\"entre 0 1 ou 2\"))\n",
    "        if _action == 0:\n",
    "            return 0\n",
    "        else:\n",
    "            return 1"
   ]
  },
  {
   "cell_type": "code",
   "execution_count": 10,
   "id": "019b713e",
   "metadata": {},
   "outputs": [],
   "source": [
    "class Environment2:\n",
    "    \"\"\" In Environment 1, action 0 yields outcome 0, action 1 yields outcome 1 \"\"\"\n",
    "\n",
    "    def outcome(self, _action):\n",
    "        # return int(input(\"entre 0 1 ou 2\"))\n",
    "        if _action == 0:\n",
    "            return 1\n",
    "        else:\n",
    "            return 0"
   ]
  },
  {
   "cell_type": "code",
   "execution_count": 11,
   "id": "3a4e7c36",
   "metadata": {},
   "outputs": [],
   "source": [
    "agent = Agent1()\n",
    "env = Environment1()"
   ]
  },
  {
   "cell_type": "code",
   "execution_count": null,
   "id": "0895825f",
   "metadata": {},
   "outputs": [],
   "source": []
  },
  {
   "cell_type": "code",
   "execution_count": 15,
   "id": "0f4681ed",
   "metadata": {},
   "outputs": [
    {
     "name": "stdout",
     "output_type": "stream",
     "text": [
      "Action: 1, Prediction: 1, Outcome: 1, Satisfaction: True\n",
      "Action: 1, Prediction: 1, Outcome: 1, Satisfaction: True\n",
      "Action: 1, Prediction: 1, Outcome: 1, Satisfaction: True\n",
      "Action: 1, Prediction: 1, Outcome: 1, Satisfaction: True\n",
      "Action: 0, Prediction: 0, Outcome: 0, Satisfaction: True\n",
      "Action: 0, Prediction: 0, Outcome: 0, Satisfaction: True\n",
      "Action: 0, Prediction: 0, Outcome: 0, Satisfaction: True\n",
      "Action: 0, Prediction: 0, Outcome: 0, Satisfaction: True\n",
      "Action: 1, Prediction: 1, Outcome: 1, Satisfaction: True\n",
      "Action: 1, Prediction: 1, Outcome: 1, Satisfaction: True\n",
      "Action: 1, Prediction: 1, Outcome: 1, Satisfaction: True\n",
      "Action: 1, Prediction: 1, Outcome: 1, Satisfaction: True\n",
      "Action: 0, Prediction: 0, Outcome: 0, Satisfaction: True\n",
      "Action: 0, Prediction: 0, Outcome: 0, Satisfaction: True\n",
      "Action: 0, Prediction: 0, Outcome: 0, Satisfaction: True\n",
      "Action: 0, Prediction: 0, Outcome: 0, Satisfaction: True\n",
      "Action: 1, Prediction: 1, Outcome: 1, Satisfaction: True\n",
      "Action: 1, Prediction: 1, Outcome: 1, Satisfaction: True\n",
      "Action: 1, Prediction: 1, Outcome: 1, Satisfaction: True\n",
      "Action: 1, Prediction: 1, Outcome: 1, Satisfaction: True\n"
     ]
    }
   ],
   "source": [
    "# Simulate the agent's interaction with the environment over 20 steps\n",
    "for step in range(20):\n",
    "    action = agent.action\n",
    "    outcome = env.outcome(action)\n",
    "    agent.Message(outcome)\n",
    "    agent.step(outcome)"
   ]
  },
  {
   "cell_type": "code",
   "execution_count": 16,
   "id": "711cd482",
   "metadata": {},
   "outputs": [],
   "source": [
    "agent = Agent1()\n",
    "env = Environment2()"
   ]
  },
  {
   "cell_type": "code",
   "execution_count": 17,
   "id": "fbe50e14",
   "metadata": {},
   "outputs": [
    {
     "name": "stdout",
     "output_type": "stream",
     "text": [
      "Action: 0, Prediction: 1, Outcome: 1, Satisfaction: True\n",
      "Action: 0, Prediction: 1, Outcome: 1, Satisfaction: True\n",
      "Action: 0, Prediction: 1, Outcome: 1, Satisfaction: True\n",
      "Action: 0, Prediction: 1, Outcome: 1, Satisfaction: True\n",
      "Action: 1, Prediction: 0, Outcome: 0, Satisfaction: True\n",
      "Action: 1, Prediction: 0, Outcome: 0, Satisfaction: True\n",
      "Action: 1, Prediction: 0, Outcome: 0, Satisfaction: True\n",
      "Action: 1, Prediction: 0, Outcome: 0, Satisfaction: True\n",
      "Action: 0, Prediction: 1, Outcome: 1, Satisfaction: True\n",
      "Action: 0, Prediction: 1, Outcome: 1, Satisfaction: True\n",
      "Action: 0, Prediction: 1, Outcome: 1, Satisfaction: True\n",
      "Action: 0, Prediction: 1, Outcome: 1, Satisfaction: True\n",
      "Action: 1, Prediction: 0, Outcome: 0, Satisfaction: True\n",
      "Action: 1, Prediction: 0, Outcome: 0, Satisfaction: True\n",
      "Action: 1, Prediction: 0, Outcome: 0, Satisfaction: True\n",
      "Action: 1, Prediction: 0, Outcome: 0, Satisfaction: True\n",
      "Action: 0, Prediction: 1, Outcome: 1, Satisfaction: True\n",
      "Action: 0, Prediction: 1, Outcome: 1, Satisfaction: True\n",
      "Action: 0, Prediction: 1, Outcome: 1, Satisfaction: True\n",
      "Action: 0, Prediction: 1, Outcome: 1, Satisfaction: True\n"
     ]
    }
   ],
   "source": [
    "# Simulate the agent's interaction with the environment over 20 steps\n",
    "for step in range(20):\n",
    "    action = agent.action\n",
    "    outcome = env.outcome(action)\n",
    "    agent.Message(outcome)\n",
    "    agent.step(outcome)"
   ]
  },
  {
   "cell_type": "code",
   "execution_count": null,
   "id": "5066645c",
   "metadata": {},
   "outputs": [],
   "source": []
  }
 ],
 "metadata": {
  "kernelspec": {
   "display_name": "Python 3 (ipykernel)",
   "language": "python",
   "name": "python3"
  },
  "language_info": {
   "codemirror_mode": {
    "name": "ipython",
    "version": 3
   },
   "file_extension": ".py",
   "mimetype": "text/x-python",
   "name": "python",
   "nbconvert_exporter": "python",
   "pygments_lexer": "ipython3",
   "version": "3.11.5"
  }
 },
 "nbformat": 4,
 "nbformat_minor": 5
}
