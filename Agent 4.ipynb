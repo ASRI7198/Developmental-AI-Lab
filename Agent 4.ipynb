{
 "cells": [
  {
   "cell_type": "code",
   "execution_count": 80,
   "id": "4fab4ce1",
   "metadata": {},
   "outputs": [],
   "source": [
    "class Interaction:\n",
    "    \"\"\"An interaction is a tuple (action, outcome) with a valence\"\"\"\n",
    "    def __init__(self, action, outcome, valence):\n",
    "        self.action = action\n",
    "        self.outcome = outcome\n",
    "        self.valence = valence\n",
    "\n",
    "    def key(self):\n",
    "        \"\"\" The key to find this interaction in the dictinary is the string '<action><outcome>'. \"\"\"\n",
    "        return f\"{self.action}{self.outcome}\"\n",
    "\n",
    "    def __str__(self):\n",
    "        \"\"\" Print interaction in the form '<action><outcome:<valence>' for debug.\"\"\"\n",
    "        return f\"{self.action}{self.outcome}:{self.valence}\"\n",
    "\n",
    "    def __eq__(self, other):\n",
    "        \"\"\" Interactions are equal if they have the same key \"\"\"\n",
    "        return self.key() == other.key()\n",
    "    def __repr__(self):\n",
    "        return f\"Interaction({self.action}, {self.outcome}, {self.valence})\""
   ]
  },
  {
   "cell_type": "code",
   "execution_count": 31,
   "id": "94c15762",
   "metadata": {},
   "outputs": [],
   "source": [
    "class Agent:\n",
    "    \"\"\"Creating our agent\"\"\"\n",
    "    def __init__(self, _interactions):\n",
    "        \"\"\" Initialize the dictionary of interactions\"\"\"\n",
    "        self._interactions = {interaction.key(): interaction for interaction in _interactions}\n",
    "        self._intended_interaction = self._interactions[\"00\"]\n",
    "\n",
    "    def action(self, _outcome):\n",
    "        \"\"\" Tracing the previous cycle \"\"\"\n",
    "        previous_interaction = self._interactions[f\"{self._intended_interaction.action}{_outcome}\"]\n",
    "        print(f\"Action: {self._intended_interaction.action}, Prediction: {self._intended_interaction.outcome}, Outcome: {_outcome}, \" \n",
    "              f\"Prediction: {self._intended_interaction.outcome == _outcome}, Valence: {previous_interaction.valence})\")\n",
    "\n",
    "        \"\"\" Computing the next interaction to try to enact \"\"\"\n",
    "        # TODO: Implement the agent's decision mechanism\n",
    "        intended_action = 0\n",
    "        # TODO: Implement the agent's prediction mechanism\n",
    "        intended_outcome = 0\n",
    "        # Memorize the intended interaction\n",
    "        self._intended_interaction = self._interactions[f\"{intended_action}{intended_outcome}\"]\n",
    "        return intended_action"
   ]
  },
  {
   "cell_type": "code",
   "execution_count": 32,
   "id": "a5678f72",
   "metadata": {},
   "outputs": [],
   "source": [
    "class Environment1:\n",
    "    \"\"\" In Environment 1, action 0 yields outcome 0, action 1 yields outcome 1 \"\"\"\n",
    "    def outcome(self, _action):\n",
    "        # return int(input(\"entre 0 1 ou 2\"))\n",
    "        if _action == 0:\n",
    "            return 0\n",
    "        else:\n",
    "            return 1"
   ]
  },
  {
   "cell_type": "code",
   "execution_count": 33,
   "id": "56cb7f43",
   "metadata": {},
   "outputs": [],
   "source": [
    "class Environment2:\n",
    "    \"\"\" In Environment 2, action 0 yields outcome 1, action 1 yields outcome 0 \"\"\"\n",
    "    def outcome(self, _action):\n",
    "        if _action == 0:\n",
    "            return 1\n",
    "        else:\n",
    "            return 0"
   ]
  },
  {
   "cell_type": "code",
   "execution_count": 34,
   "id": "004305bd",
   "metadata": {},
   "outputs": [],
   "source": [
    "class Environment3:\n",
    "    \"\"\" Environment 3 yields outcome 1 only when the agent alternates actions 0 and 1 \"\"\"\n",
    "    def __init__(self):\n",
    "        \"\"\" Initializing Environment3 \"\"\"\n",
    "        self.previous_action = 0\n",
    "\n",
    "    def outcome(self, _action):\n",
    "        if _action == self.previous_action:\n",
    "            _outcome = 0\n",
    "        else:\n",
    "            _outcome = 1\n",
    "        self.previous_action = _action\n",
    "        return _outcome"
   ]
  },
  {
   "cell_type": "code",
   "execution_count": 125,
   "id": "f961f47a",
   "metadata": {},
   "outputs": [],
   "source": [
    "interactions = [\n",
    "    Interaction(0,0,-1),\n",
    "    Interaction(0,1,1),\n",
    "    Interaction(1,0,-1),\n",
    "    Interaction(1,1,1),\n",
    "    Interaction(2,0,-1),\n",
    "    Interaction(2,1,1)\n",
    "]"
   ]
  },
  {
   "cell_type": "code",
   "execution_count": 36,
   "id": "6d713d40",
   "metadata": {},
   "outputs": [],
   "source": [
    "a = Agent(interactions)"
   ]
  },
  {
   "cell_type": "code",
   "execution_count": 37,
   "id": "61e463bd",
   "metadata": {},
   "outputs": [],
   "source": [
    "e = Environment3()"
   ]
  },
  {
   "cell_type": "code",
   "execution_count": 38,
   "id": "e64759cc",
   "metadata": {},
   "outputs": [
    {
     "name": "stdout",
     "output_type": "stream",
     "text": [
      "Action: 0, Prediction: 0, Outcome: 0, Prediction: True, Valence: -1)\n",
      "Action: 0, Prediction: 0, Outcome: 0, Prediction: True, Valence: -1)\n",
      "Action: 0, Prediction: 0, Outcome: 0, Prediction: True, Valence: -1)\n",
      "Action: 0, Prediction: 0, Outcome: 0, Prediction: True, Valence: -1)\n",
      "Action: 0, Prediction: 0, Outcome: 0, Prediction: True, Valence: -1)\n",
      "Action: 0, Prediction: 0, Outcome: 0, Prediction: True, Valence: -1)\n",
      "Action: 0, Prediction: 0, Outcome: 0, Prediction: True, Valence: -1)\n",
      "Action: 0, Prediction: 0, Outcome: 0, Prediction: True, Valence: -1)\n",
      "Action: 0, Prediction: 0, Outcome: 0, Prediction: True, Valence: -1)\n",
      "Action: 0, Prediction: 0, Outcome: 0, Prediction: True, Valence: -1)\n"
     ]
    }
   ],
   "source": [
    "outcome = 0\n",
    "for i in range(10):\n",
    "    action = a.action(outcome)\n",
    "    outcome = e.outcome(action)"
   ]
  },
  {
   "cell_type": "code",
   "execution_count": 88,
   "id": "62f6f90d",
   "metadata": {},
   "outputs": [],
   "source": [
    "class Interaction:\n",
    "    \"\"\"An interaction is a tuple (action, outcome) with a valence\"\"\"\n",
    "    def __init__(self, action, outcome, valence):\n",
    "        self.action = action\n",
    "        self.outcome = outcome\n",
    "        self.valence = valence\n",
    "\n",
    "    def key(self):\n",
    "        \"\"\" The key to find this interaction in the dictinary is the string '<action><outcome>'. \"\"\"\n",
    "        return f\"{self.action}{self.outcome}\"\n",
    "\n",
    "    def __str__(self):\n",
    "        \"\"\" Print interaction in the form '<action><outcome:<valence>' for debug.\"\"\"\n",
    "        return f\"{self.action}{self.outcome}:{self.valence}\"\n",
    "\n",
    "    def __eq__(self, other):\n",
    "        \"\"\" Interactions are equal if they have the same key \"\"\"\n",
    "        return self.key() == other.key()"
   ]
  },
  {
   "cell_type": "code",
   "execution_count": 126,
   "id": "0e95abd9",
   "metadata": {},
   "outputs": [],
   "source": [
    "interactions = [\n",
    "    Interaction(0,0,-1),\n",
    "    Interaction(0,1,1),\n",
    "    Interaction(1,0,-1),\n",
    "    Interaction(1,1,1),\n",
    "    Interaction(2,0,-1),\n",
    "    Interaction(2,1,1)\n",
    "]\n",
    "class Agent4():\n",
    "    \n",
    "    def __init__(self, _interactions):\n",
    "        \"\"\" Initialize the dictionary of interactions\"\"\"\n",
    "       # {interaction.key(): interaction for interaction in _interactions}\n",
    "        self._interactions = {interaction.key():interaction for interaction in _interactions if interaction.valence > 0}\n",
    "        self._intended_interaction = self._interactions[\"01\"]  #tu chnager les action et outcome a pres le filtrage de valeur negative a chaque fois ca depend les valeur de Interactions \n",
    "    def action(self, _outcome):\n",
    "        if not self.outcome_exists(_outcome):\n",
    "              _outcome=1-_outcome\n",
    "        previous_interaction = self._interactions.get(f\"{self._intended_interaction.action}{_outcome}\")\n",
    "        print(f\"Action: {self._intended_interaction.action}, Prediction: {self._intended_interaction.outcome}, Outcome: {_outcome}, \" \n",
    "              f\"Prediction: {self._intended_interaction.outcome == _outcome}, Valence: {previous_interaction.valence})\")\n",
    "        # Choisir l'action suivante basée sur la meilleure valence attendue\n",
    "        best_valence = float('-inf')\n",
    "        best_interaction = None\n",
    "        \n",
    "        for key, interaction in self._interactions.items():\n",
    "            if interaction.valence > best_valence:\n",
    "                best_valence = interaction.valence\n",
    "                best_interaction = interaction\n",
    "                \n",
    "\n",
    "        # Définit l'interaction et l'action pour le prochain cycle\n",
    "        self._intended_interaction = best_interaction\n",
    "        return self._intended_interaction.action\n",
    "\n",
    "    def filter_positive_valence(interactions):\n",
    "        \"\"\"Filter out interactions with negative valence.\"\"\"\n",
    "        return [interaction for interaction in interactions if interaction.valence > 0]\n",
    "    \n",
    "   \n",
    "    def outcome_exists(self, outcome):\n",
    "        \"\"\"Check if a given outcome exists in the second place of any interaction.\"\"\"\n",
    "        for interaction in self._interactions:\n",
    "            if interaction[1] == outcome:\n",
    "                return True\n",
    "        return False"
   ]
  },
  {
   "cell_type": "code",
   "execution_count": null,
   "id": "717c71e3",
   "metadata": {},
   "outputs": [],
   "source": []
  },
  {
   "cell_type": "code",
   "execution_count": 127,
   "id": "9b54bfdb",
   "metadata": {},
   "outputs": [
    {
     "name": "stdout",
     "output_type": "stream",
     "text": [
      "Action: 0, Prediction: 1, Outcome: 1, Prediction: True, Valence: 1)\n",
      "Action: 0, Prediction: 1, Outcome: 1, Prediction: True, Valence: 1)\n",
      "Action: 0, Prediction: 1, Outcome: 1, Prediction: True, Valence: 1)\n",
      "Action: 0, Prediction: 1, Outcome: 1, Prediction: True, Valence: 1)\n",
      "Action: 0, Prediction: 1, Outcome: 1, Prediction: True, Valence: 1)\n",
      "Action: 0, Prediction: 1, Outcome: 1, Prediction: True, Valence: 1)\n",
      "Action: 0, Prediction: 1, Outcome: 1, Prediction: True, Valence: 1)\n",
      "Action: 0, Prediction: 1, Outcome: 1, Prediction: True, Valence: 1)\n",
      "Action: 0, Prediction: 1, Outcome: 1, Prediction: True, Valence: 1)\n",
      "Action: 0, Prediction: 1, Outcome: 1, Prediction: True, Valence: 1)\n",
      "Action: 0, Prediction: 1, Outcome: 1, Prediction: True, Valence: 1)\n",
      "Action: 0, Prediction: 1, Outcome: 1, Prediction: True, Valence: 1)\n",
      "Action: 0, Prediction: 1, Outcome: 1, Prediction: True, Valence: 1)\n",
      "Action: 0, Prediction: 1, Outcome: 1, Prediction: True, Valence: 1)\n",
      "Action: 0, Prediction: 1, Outcome: 1, Prediction: True, Valence: 1)\n",
      "Action: 0, Prediction: 1, Outcome: 1, Prediction: True, Valence: 1)\n",
      "Action: 0, Prediction: 1, Outcome: 1, Prediction: True, Valence: 1)\n",
      "Action: 0, Prediction: 1, Outcome: 1, Prediction: True, Valence: 1)\n",
      "Action: 0, Prediction: 1, Outcome: 1, Prediction: True, Valence: 1)\n",
      "Action: 0, Prediction: 1, Outcome: 1, Prediction: True, Valence: 1)\n"
     ]
    }
   ],
   "source": [
    "a = Agent4(interactions)\n",
    "e = Environment1()\n",
    "outcome = 0\n",
    "for i in range(20):\n",
    "    action = a.action(outcome)\n",
    "    outcome = e.outcome(action)"
   ]
  },
  {
   "cell_type": "code",
   "execution_count": 124,
   "id": "e971609c",
   "metadata": {
    "scrolled": true
   },
   "outputs": [
    {
     "ename": "KeyError",
     "evalue": "'00'",
     "output_type": "error",
     "traceback": [
      "\u001b[1;31m---------------------------------------------------------------------------\u001b[0m",
      "\u001b[1;31mKeyError\u001b[0m                                  Traceback (most recent call last)",
      "Cell \u001b[1;32mIn[124], line 1\u001b[0m\n\u001b[1;32m----> 1\u001b[0m a \u001b[38;5;241m=\u001b[39m Agent4(interactions)\n\u001b[0;32m      2\u001b[0m e \u001b[38;5;241m=\u001b[39m Environment2()\n\u001b[0;32m      3\u001b[0m outcome \u001b[38;5;241m=\u001b[39m \u001b[38;5;241m0\u001b[39m\n",
      "Cell \u001b[1;32mIn[122], line 15\u001b[0m, in \u001b[0;36mAgent4.__init__\u001b[1;34m(self, _interactions)\u001b[0m\n\u001b[0;32m     13\u001b[0m \u001b[38;5;66;03m# {interaction.key(): interaction for interaction in _interactions}\u001b[39;00m\n\u001b[0;32m     14\u001b[0m  \u001b[38;5;28mself\u001b[39m\u001b[38;5;241m.\u001b[39m_interactions \u001b[38;5;241m=\u001b[39m {interaction\u001b[38;5;241m.\u001b[39mkey():interaction \u001b[38;5;28;01mfor\u001b[39;00m interaction \u001b[38;5;129;01min\u001b[39;00m _interactions \u001b[38;5;28;01mif\u001b[39;00m interaction\u001b[38;5;241m.\u001b[39mvalence \u001b[38;5;241m>\u001b[39m \u001b[38;5;241m0\u001b[39m}\n\u001b[1;32m---> 15\u001b[0m  \u001b[38;5;28mself\u001b[39m\u001b[38;5;241m.\u001b[39m_intended_interaction \u001b[38;5;241m=\u001b[39m \u001b[38;5;28mself\u001b[39m\u001b[38;5;241m.\u001b[39m_interactions[\u001b[38;5;124m\"\u001b[39m\u001b[38;5;124m00\u001b[39m\u001b[38;5;124m\"\u001b[39m]\n",
      "\u001b[1;31mKeyError\u001b[0m: '00'"
     ]
    }
   ],
   "source": [
    "a = Agent4(interactions)\n",
    "e = Environment2()\n",
    "outcome = 0\n",
    "for i in range(20):\n",
    "    action = a.action(outcome)\n",
    "    outcome = e.outcome(action)"
   ]
  },
  {
   "cell_type": "code",
   "execution_count": 112,
   "id": "8c534076",
   "metadata": {
    "scrolled": true
   },
   "outputs": [
    {
     "name": "stdout",
     "output_type": "stream",
     "text": [
      "Action: 0, Prediction: 1, Outcome: 1, Prediction: True, Valence: 1)\n",
      "Action: 0, Prediction: 1, Outcome: 1, Prediction: True, Valence: 1)\n",
      "Action: 0, Prediction: 1, Outcome: 1, Prediction: True, Valence: 1)\n",
      "Action: 0, Prediction: 1, Outcome: 1, Prediction: True, Valence: 1)\n",
      "Action: 0, Prediction: 1, Outcome: 1, Prediction: True, Valence: 1)\n",
      "Action: 0, Prediction: 1, Outcome: 1, Prediction: True, Valence: 1)\n",
      "Action: 0, Prediction: 1, Outcome: 1, Prediction: True, Valence: 1)\n",
      "Action: 0, Prediction: 1, Outcome: 1, Prediction: True, Valence: 1)\n",
      "Action: 0, Prediction: 1, Outcome: 1, Prediction: True, Valence: 1)\n",
      "Action: 0, Prediction: 1, Outcome: 1, Prediction: True, Valence: 1)\n",
      "Action: 0, Prediction: 1, Outcome: 1, Prediction: True, Valence: 1)\n",
      "Action: 0, Prediction: 1, Outcome: 1, Prediction: True, Valence: 1)\n",
      "Action: 0, Prediction: 1, Outcome: 1, Prediction: True, Valence: 1)\n",
      "Action: 0, Prediction: 1, Outcome: 1, Prediction: True, Valence: 1)\n",
      "Action: 0, Prediction: 1, Outcome: 1, Prediction: True, Valence: 1)\n",
      "Action: 0, Prediction: 1, Outcome: 1, Prediction: True, Valence: 1)\n",
      "Action: 0, Prediction: 1, Outcome: 1, Prediction: True, Valence: 1)\n",
      "Action: 0, Prediction: 1, Outcome: 1, Prediction: True, Valence: 1)\n",
      "Action: 0, Prediction: 1, Outcome: 1, Prediction: True, Valence: 1)\n",
      "Action: 0, Prediction: 1, Outcome: 1, Prediction: True, Valence: 1)\n"
     ]
    }
   ],
   "source": [
    "a = Agent4(interactions)\n",
    "e = Environment3()\n",
    "outcome = 0\n",
    "for i in range(20):\n",
    "    action = a.action(outcome)\n",
    "    outcome = e.outcome(action)"
   ]
  },
  {
   "cell_type": "code",
   "execution_count": 43,
   "id": "f22e2703",
   "metadata": {},
   "outputs": [
    {
     "name": "stdout",
     "output_type": "stream",
     "text": [
      "Action: 0, Prediction: 0, Outcome: 0, Prediction: True, Valence: 1)\n",
      "Action: 0, Prediction: 0, Outcome: 0, Prediction: True, Valence: 1)\n",
      "Action: 0, Prediction: 0, Outcome: 0, Prediction: True, Valence: 1)\n",
      "Action: 0, Prediction: 0, Outcome: 0, Prediction: True, Valence: 1)\n",
      "Action: 0, Prediction: 0, Outcome: 0, Prediction: True, Valence: 1)\n",
      "Action: 0, Prediction: 0, Outcome: 0, Prediction: True, Valence: 1)\n",
      "Action: 0, Prediction: 0, Outcome: 0, Prediction: True, Valence: 1)\n",
      "Action: 0, Prediction: 0, Outcome: 0, Prediction: True, Valence: 1)\n",
      "Action: 0, Prediction: 0, Outcome: 0, Prediction: True, Valence: 1)\n",
      "Action: 0, Prediction: 0, Outcome: 0, Prediction: True, Valence: 1)\n",
      "Action: 0, Prediction: 0, Outcome: 0, Prediction: True, Valence: 1)\n",
      "Action: 0, Prediction: 0, Outcome: 0, Prediction: True, Valence: 1)\n",
      "Action: 0, Prediction: 0, Outcome: 0, Prediction: True, Valence: 1)\n",
      "Action: 0, Prediction: 0, Outcome: 0, Prediction: True, Valence: 1)\n",
      "Action: 0, Prediction: 0, Outcome: 0, Prediction: True, Valence: 1)\n",
      "Action: 0, Prediction: 0, Outcome: 0, Prediction: True, Valence: 1)\n",
      "Action: 0, Prediction: 0, Outcome: 0, Prediction: True, Valence: 1)\n",
      "Action: 0, Prediction: 0, Outcome: 0, Prediction: True, Valence: 1)\n",
      "Action: 0, Prediction: 0, Outcome: 0, Prediction: True, Valence: 1)\n",
      "Action: 0, Prediction: 0, Outcome: 0, Prediction: True, Valence: 1)\n"
     ]
    }
   ],
   "source": [
    "# Choose different valence of interactions\n",
    "interactions = [\n",
    "    Interaction(0,0,1),\n",
    "    Interaction(0,1,0),\n",
    "    Interaction(1,0,-1),\n",
    "    Interaction(1,1,1),\n",
    "    Interaction(2,0,-1),\n",
    "    Interaction(2,1,1)\n",
    "]\n",
    "# Run the agent\n",
    "a = Agent4(interactions)\n",
    "e = Environment3()\n",
    "outcome = 0\n",
    "for i in range(20):\n",
    "    action = a.action(outcome)\n",
    "    outcome = e.outcome(action)"
   ]
  },
  {
   "cell_type": "code",
   "execution_count": 81,
   "id": "3c9fee7e",
   "metadata": {},
   "outputs": [],
   "source": [
    "# Choose different valence of interactions\n",
    "interactions = [\n",
    "    Interaction(0,0,1),\n",
    "    Interaction(0,1,0),\n",
    "    Interaction(1,0,-1),\n",
    "    Interaction(1,1,1),\n",
    "    Interaction(2,0,-1),\n",
    "    Interaction(2,1,1)\n",
    "]\n",
    "interactions = [interaction for interaction in interactions if interaction.valence > 0]"
   ]
  },
  {
   "cell_type": "code",
   "execution_count": 82,
   "id": "ec23e6ad",
   "metadata": {},
   "outputs": [
    {
     "data": {
      "text/plain": [
       "[Interaction(0, 0, 1), Interaction(1, 1, 1), Interaction(2, 1, 1)]"
      ]
     },
     "execution_count": 82,
     "metadata": {},
     "output_type": "execute_result"
    }
   ],
   "source": [
    "interactions"
   ]
  },
  {
   "cell_type": "code",
   "execution_count": 1,
   "id": "b726f709",
   "metadata": {},
   "outputs": [
    {
     "name": "stdout",
     "output_type": "stream",
     "text": [
      "Requirement already satisfied: ColabTurtle in c:\\users\\dell\\anaconda3\\lib\\site-packages (2.1.0)\n"
     ]
    }
   ],
   "source": [
    "# @title Install the turtle environment\n",
    "!pip3 install ColabTurtle\n",
    "from ColabTurtle.Turtle import *"
   ]
  },
  {
   "cell_type": "code",
   "execution_count": 113,
   "id": "e79e232f",
   "metadata": {},
   "outputs": [],
   "source": [
    "# @title Initialize the turtle environment\n",
    "\n",
    "BORDER_WIDTH = 20\n",
    "\n",
    "class ColabTurtleEnvironment:\n",
    "\n",
    "    def __init__(self):\n",
    "        \"\"\" Creating the Turtle window \"\"\"\n",
    "        bgcolor(\"lightGray\")\n",
    "        penup()\n",
    "        goto(window_width() / 2, window_height()/2)\n",
    "        face(0)\n",
    "        pendown()\n",
    "        color(\"green\")\n",
    "\n",
    "    def outcome(self, action):\n",
    "        \"\"\" Enacting an action and returning the outcome \"\"\"\n",
    "        _outcome = 0\n",
    "        for i in range(10):\n",
    "            # _outcome = 0\n",
    "            if action == 0:\n",
    "                # move forward\n",
    "                forward(10)\n",
    "            elif action == 1:\n",
    "                # rotate left\n",
    "                left(4)\n",
    "                forward(2)\n",
    "            elif action == 2:\n",
    "                # rotate right\n",
    "                right(4)\n",
    "                forward(2)\n",
    "\n",
    "            # Bump on screen edge and return outcome 1\n",
    "            if xcor() < BORDER_WIDTH:\n",
    "                goto(BORDER_WIDTH, ycor())\n",
    "                _outcome = 1\n",
    "            if xcor() > window_width() - BORDER_WIDTH:\n",
    "                goto(window_width() - BORDER_WIDTH, ycor())\n",
    "                _outcome = 1\n",
    "            if ycor() < BORDER_WIDTH:\n",
    "                goto(xcor(), BORDER_WIDTH)\n",
    "                _outcome = 1\n",
    "            if ycor() > window_height() - BORDER_WIDTH:\n",
    "                goto(xcor(), window_height() -BORDER_WIDTH)\n",
    "                _outcome = 1\n",
    "\n",
    "            # Change color\n",
    "            if _outcome == 0:\n",
    "                color(\"green\")\n",
    "            else:\n",
    "                # Finit l'interaction\n",
    "                color(\"red\")\n",
    "                # if action == 0:\n",
    "                #     break\n",
    "                if action == 1:\n",
    "                    for j in range(10):\n",
    "                        left(4)\n",
    "                elif action == 2:\n",
    "                    for j in range(10):\n",
    "                        right(4)\n",
    "                break\n",
    "\n",
    "        return _outcome"
   ]
  },
  {
   "cell_type": "code",
   "execution_count": null,
   "id": "0b4401e8",
   "metadata": {},
   "outputs": [],
   "source": []
  },
  {
   "cell_type": "code",
   "execution_count": 114,
   "id": "046210b3",
   "metadata": {},
   "outputs": [],
   "source": [
    "# Choose different valence of interactions\n",
    "interactions = [\n",
    "    Interaction(0,0,1),\n",
    "    Interaction(0,1,0),\n",
    "    Interaction(1,0,-1),\n",
    "    Interaction(1,1,1),\n",
    "    Interaction(2,0,-1),\n",
    "    Interaction(2,1,1)\n",
    "]"
   ]
  },
  {
   "cell_type": "code",
   "execution_count": 121,
   "id": "b50f7414",
   "metadata": {},
   "outputs": [
    {
     "data": {
      "text/html": [
       "\n",
       "      <svg width=\"800\" height=\"500\">\n",
       "        <rect width=\"100%\" height=\"100%\" fill=\"lightgray\"/>\n",
       "        <line x1=\"400.0\" y1=\"250.0\" x2=\"410.0\" y2=\"250.0\" stroke-linecap=\"round\" style=\"stroke:green;stroke-width:4\"/><line x1=\"410.0\" y1=\"250.0\" x2=\"420.0\" y2=\"250.0\" stroke-linecap=\"round\" style=\"stroke:green;stroke-width:4\"/><line x1=\"420.0\" y1=\"250.0\" x2=\"430.0\" y2=\"250.0\" stroke-linecap=\"round\" style=\"stroke:green;stroke-width:4\"/><line x1=\"430.0\" y1=\"250.0\" x2=\"440.0\" y2=\"250.0\" stroke-linecap=\"round\" style=\"stroke:green;stroke-width:4\"/><line x1=\"440.0\" y1=\"250.0\" x2=\"450.0\" y2=\"250.0\" stroke-linecap=\"round\" style=\"stroke:green;stroke-width:4\"/><line x1=\"450.0\" y1=\"250.0\" x2=\"460.0\" y2=\"250.0\" stroke-linecap=\"round\" style=\"stroke:green;stroke-width:4\"/><line x1=\"460.0\" y1=\"250.0\" x2=\"470.0\" y2=\"250.0\" stroke-linecap=\"round\" style=\"stroke:green;stroke-width:4\"/><line x1=\"470.0\" y1=\"250.0\" x2=\"480.0\" y2=\"250.0\" stroke-linecap=\"round\" style=\"stroke:green;stroke-width:4\"/><line x1=\"480.0\" y1=\"250.0\" x2=\"490.0\" y2=\"250.0\" stroke-linecap=\"round\" style=\"stroke:green;stroke-width:4\"/><line x1=\"490.0\" y1=\"250.0\" x2=\"500.0\" y2=\"250.0\" stroke-linecap=\"round\" style=\"stroke:green;stroke-width:4\"/><line x1=\"500.0\" y1=\"250.0\" x2=\"510.0\" y2=\"250.0\" stroke-linecap=\"round\" style=\"stroke:green;stroke-width:4\"/><line x1=\"510.0\" y1=\"250.0\" x2=\"520.0\" y2=\"250.0\" stroke-linecap=\"round\" style=\"stroke:green;stroke-width:4\"/><line x1=\"520.0\" y1=\"250.0\" x2=\"530.0\" y2=\"250.0\" stroke-linecap=\"round\" style=\"stroke:green;stroke-width:4\"/><line x1=\"530.0\" y1=\"250.0\" x2=\"540.0\" y2=\"250.0\" stroke-linecap=\"round\" style=\"stroke:green;stroke-width:4\"/><line x1=\"540.0\" y1=\"250.0\" x2=\"550.0\" y2=\"250.0\" stroke-linecap=\"round\" style=\"stroke:green;stroke-width:4\"/><line x1=\"550.0\" y1=\"250.0\" x2=\"560.0\" y2=\"250.0\" stroke-linecap=\"round\" style=\"stroke:green;stroke-width:4\"/><line x1=\"560.0\" y1=\"250.0\" x2=\"570.0\" y2=\"250.0\" stroke-linecap=\"round\" style=\"stroke:green;stroke-width:4\"/><line x1=\"570.0\" y1=\"250.0\" x2=\"580.0\" y2=\"250.0\" stroke-linecap=\"round\" style=\"stroke:green;stroke-width:4\"/><line x1=\"580.0\" y1=\"250.0\" x2=\"590.0\" y2=\"250.0\" stroke-linecap=\"round\" style=\"stroke:green;stroke-width:4\"/><line x1=\"590.0\" y1=\"250.0\" x2=\"600.0\" y2=\"250.0\" stroke-linecap=\"round\" style=\"stroke:green;stroke-width:4\"/><line x1=\"600.0\" y1=\"250.0\" x2=\"610.0\" y2=\"250.0\" stroke-linecap=\"round\" style=\"stroke:green;stroke-width:4\"/><line x1=\"610.0\" y1=\"250.0\" x2=\"620.0\" y2=\"250.0\" stroke-linecap=\"round\" style=\"stroke:green;stroke-width:4\"/><line x1=\"620.0\" y1=\"250.0\" x2=\"630.0\" y2=\"250.0\" stroke-linecap=\"round\" style=\"stroke:green;stroke-width:4\"/><line x1=\"630.0\" y1=\"250.0\" x2=\"640.0\" y2=\"250.0\" stroke-linecap=\"round\" style=\"stroke:green;stroke-width:4\"/><line x1=\"640.0\" y1=\"250.0\" x2=\"650.0\" y2=\"250.0\" stroke-linecap=\"round\" style=\"stroke:green;stroke-width:4\"/><line x1=\"650.0\" y1=\"250.0\" x2=\"660.0\" y2=\"250.0\" stroke-linecap=\"round\" style=\"stroke:green;stroke-width:4\"/><line x1=\"660.0\" y1=\"250.0\" x2=\"670.0\" y2=\"250.0\" stroke-linecap=\"round\" style=\"stroke:green;stroke-width:4\"/><line x1=\"670.0\" y1=\"250.0\" x2=\"680.0\" y2=\"250.0\" stroke-linecap=\"round\" style=\"stroke:green;stroke-width:4\"/><line x1=\"680.0\" y1=\"250.0\" x2=\"690.0\" y2=\"250.0\" stroke-linecap=\"round\" style=\"stroke:green;stroke-width:4\"/><line x1=\"690.0\" y1=\"250.0\" x2=\"700.0\" y2=\"250.0\" stroke-linecap=\"round\" style=\"stroke:green;stroke-width:4\"/><line x1=\"700.0\" y1=\"250.0\" x2=\"710.0\" y2=\"250.0\" stroke-linecap=\"round\" style=\"stroke:green;stroke-width:4\"/><line x1=\"710.0\" y1=\"250.0\" x2=\"720.0\" y2=\"250.0\" stroke-linecap=\"round\" style=\"stroke:green;stroke-width:4\"/><line x1=\"720.0\" y1=\"250.0\" x2=\"730.0\" y2=\"250.0\" stroke-linecap=\"round\" style=\"stroke:green;stroke-width:4\"/><line x1=\"730.0\" y1=\"250.0\" x2=\"740.0\" y2=\"250.0\" stroke-linecap=\"round\" style=\"stroke:green;stroke-width:4\"/><line x1=\"740.0\" y1=\"250.0\" x2=\"750.0\" y2=\"250.0\" stroke-linecap=\"round\" style=\"stroke:green;stroke-width:4\"/><line x1=\"750.0\" y1=\"250.0\" x2=\"760.0\" y2=\"250.0\" stroke-linecap=\"round\" style=\"stroke:green;stroke-width:4\"/><line x1=\"760.0\" y1=\"250.0\" x2=\"770.0\" y2=\"250.0\" stroke-linecap=\"round\" style=\"stroke:green;stroke-width:4\"/><line x1=\"770.0\" y1=\"250.0\" x2=\"780.0\" y2=\"250.0\" stroke-linecap=\"round\" style=\"stroke:green;stroke-width:4\"/><line x1=\"780.0\" y1=\"250.0\" x2=\"790.0\" y2=\"250.0\" stroke-linecap=\"round\" style=\"stroke:green;stroke-width:4\"/><line x1=\"790.0\" y1=\"250.0\" x2=\"780\" y2=\"250.0\" stroke-linecap=\"round\" style=\"stroke:green;stroke-width:4\"/>\n",
       "        <g visibility=visible transform=\"rotate(90,780,250.0) translate(762, 232.0)\">\n",
       "<path style=\" stroke:none;fill-rule:evenodd;fill:red;fill-opacity:1;\" d=\"M 18.214844 0.632812 C 16.109375 1.800781 15.011719 4.074219 15.074219 7.132812 L 15.085938 7.652344 L 14.785156 7.496094 C 13.476562 6.824219 11.957031 6.671875 10.40625 7.066406 C 8.46875 7.550781 6.515625 9.15625 4.394531 11.992188 C 3.0625 13.777344 2.679688 14.636719 3.042969 15.027344 L 3.15625 15.152344 L 3.519531 15.152344 C 4.238281 15.152344 4.828125 14.886719 8.1875 13.039062 C 9.386719 12.378906 10.371094 11.839844 10.378906 11.839844 C 10.386719 11.839844 10.355469 11.929688 10.304688 12.035156 C 9.832031 13.09375 9.257812 14.820312 8.96875 16.078125 C 7.914062 20.652344 8.617188 24.53125 11.070312 27.660156 C 11.351562 28.015625 11.363281 27.914062 10.972656 28.382812 C 8.925781 30.84375 7.945312 33.28125 8.238281 35.1875 C 8.289062 35.527344 8.28125 35.523438 8.917969 35.523438 C 10.941406 35.523438 13.074219 34.207031 15.136719 31.6875 C 15.359375 31.417969 15.328125 31.425781 15.5625 31.574219 C 16.292969 32.042969 18.023438 32.964844 18.175781 32.964844 C 18.335938 32.964844 19.941406 32.210938 20.828125 31.71875 C 20.996094 31.625 21.136719 31.554688 21.136719 31.558594 C 21.203125 31.664062 21.898438 32.414062 22.222656 32.730469 C 23.835938 34.300781 25.5625 35.132812 27.582031 35.300781 C 27.90625 35.328125 27.9375 35.308594 28.007812 34.984375 C 28.382812 33.242188 27.625 30.925781 25.863281 28.425781 L 25.542969 27.96875 L 25.699219 27.785156 C 28.945312 23.960938 29.132812 18.699219 26.257812 11.96875 L 26.207031 11.84375 L 27.945312 12.703125 C 31.53125 14.476562 32.316406 14.800781 33.03125 14.800781 C 33.976562 14.800781 33.78125 13.9375 32.472656 12.292969 C 28.519531 7.355469 25.394531 5.925781 21.921875 7.472656 L 21.558594 7.636719 L 21.578125 7.542969 C 21.699219 6.992188 21.761719 5.742188 21.699219 5.164062 C 21.496094 3.296875 20.664062 1.964844 19.003906 0.855469 C 18.480469 0.503906 18.457031 0.5 18.214844 0.632812\"/>\n",
       "</g>\n",
       "      </svg>\n",
       "    "
      ],
      "text/plain": [
       "<IPython.core.display.HTML object>"
      ]
     },
     "metadata": {},
     "output_type": "display_data"
    },
    {
     "name": "stdout",
     "output_type": "stream",
     "text": [
      "Action: 1, Prediction: 1, Outcome: 1, Prediction: True, Valence: 1)\n",
      "Action: 0, Prediction: 1, Outcome: 1, Prediction: True, Valence: 1)\n",
      "Action: 0, Prediction: 1, Outcome: 1, Prediction: True, Valence: 1)\n",
      "Action: 0, Prediction: 1, Outcome: 1, Prediction: True, Valence: 1)\n"
     ]
    },
    {
     "ename": "AttributeError",
     "evalue": "'NoneType' object has no attribute 'valence'",
     "output_type": "error",
     "traceback": [
      "\u001b[1;31m---------------------------------------------------------------------------\u001b[0m",
      "\u001b[1;31mAttributeError\u001b[0m                            Traceback (most recent call last)",
      "Cell \u001b[1;32mIn[121], line 18\u001b[0m\n\u001b[0;32m     16\u001b[0m outcome \u001b[38;5;241m=\u001b[39m \u001b[38;5;241m0\u001b[39m\n\u001b[0;32m     17\u001b[0m \u001b[38;5;28;01mfor\u001b[39;00m i \u001b[38;5;129;01min\u001b[39;00m \u001b[38;5;28mrange\u001b[39m(\u001b[38;5;241m10\u001b[39m):\n\u001b[1;32m---> 18\u001b[0m     action \u001b[38;5;241m=\u001b[39m a\u001b[38;5;241m.\u001b[39maction(outcome)\n\u001b[0;32m     19\u001b[0m     outcome \u001b[38;5;241m=\u001b[39m e\u001b[38;5;241m.\u001b[39moutcome(action)\n",
      "Cell \u001b[1;32mIn[119], line 21\u001b[0m, in \u001b[0;36mAgent4.action\u001b[1;34m(self, _outcome)\u001b[0m\n\u001b[0;32m     18\u001b[0m       _outcome\u001b[38;5;241m=\u001b[39m\u001b[38;5;241m1\u001b[39m\u001b[38;5;241m-\u001b[39m_outcome\n\u001b[0;32m     19\u001b[0m previous_interaction \u001b[38;5;241m=\u001b[39m \u001b[38;5;28mself\u001b[39m\u001b[38;5;241m.\u001b[39m_interactions\u001b[38;5;241m.\u001b[39mget(\u001b[38;5;124mf\u001b[39m\u001b[38;5;124m\"\u001b[39m\u001b[38;5;132;01m{\u001b[39;00m\u001b[38;5;28mself\u001b[39m\u001b[38;5;241m.\u001b[39m_intended_interaction\u001b[38;5;241m.\u001b[39maction\u001b[38;5;132;01m}\u001b[39;00m\u001b[38;5;132;01m{\u001b[39;00m_outcome\u001b[38;5;132;01m}\u001b[39;00m\u001b[38;5;124m\"\u001b[39m)\n\u001b[0;32m     20\u001b[0m \u001b[38;5;28mprint\u001b[39m(\u001b[38;5;124mf\u001b[39m\u001b[38;5;124m\"\u001b[39m\u001b[38;5;124mAction: \u001b[39m\u001b[38;5;132;01m{\u001b[39;00m\u001b[38;5;28mself\u001b[39m\u001b[38;5;241m.\u001b[39m_intended_interaction\u001b[38;5;241m.\u001b[39maction\u001b[38;5;132;01m}\u001b[39;00m\u001b[38;5;124m, Prediction: \u001b[39m\u001b[38;5;132;01m{\u001b[39;00m\u001b[38;5;28mself\u001b[39m\u001b[38;5;241m.\u001b[39m_intended_interaction\u001b[38;5;241m.\u001b[39moutcome\u001b[38;5;132;01m}\u001b[39;00m\u001b[38;5;124m, Outcome: \u001b[39m\u001b[38;5;132;01m{\u001b[39;00m_outcome\u001b[38;5;132;01m}\u001b[39;00m\u001b[38;5;124m, \u001b[39m\u001b[38;5;124m\"\u001b[39m \n\u001b[1;32m---> 21\u001b[0m       \u001b[38;5;124mf\u001b[39m\u001b[38;5;124m\"\u001b[39m\u001b[38;5;124mPrediction: \u001b[39m\u001b[38;5;132;01m{\u001b[39;00m\u001b[38;5;28mself\u001b[39m\u001b[38;5;241m.\u001b[39m_intended_interaction\u001b[38;5;241m.\u001b[39moutcome\u001b[38;5;250m \u001b[39m\u001b[38;5;241m==\u001b[39m\u001b[38;5;250m \u001b[39m_outcome\u001b[38;5;132;01m}\u001b[39;00m\u001b[38;5;124m, Valence: \u001b[39m\u001b[38;5;132;01m{\u001b[39;00mprevious_interaction\u001b[38;5;241m.\u001b[39mvalence\u001b[38;5;132;01m}\u001b[39;00m\u001b[38;5;124m)\u001b[39m\u001b[38;5;124m\"\u001b[39m)\n\u001b[0;32m     22\u001b[0m \u001b[38;5;66;03m# Choisir l'action suivante basée sur la meilleure valence attendue\u001b[39;00m\n\u001b[0;32m     23\u001b[0m best_valence \u001b[38;5;241m=\u001b[39m \u001b[38;5;28mfloat\u001b[39m(\u001b[38;5;124m'\u001b[39m\u001b[38;5;124m-inf\u001b[39m\u001b[38;5;124m'\u001b[39m)\n",
      "\u001b[1;31mAttributeError\u001b[0m: 'NoneType' object has no attribute 'valence'"
     ]
    }
   ],
   "source": [
    "# @title Run the turtle environment\n",
    "initializeTurtle()\n",
    "\n",
    "# Parameterize the rendering\n",
    "bgcolor(\"lightGray\")\n",
    "penup()\n",
    "goto(window_width() / 2, window_height()/2)\n",
    "face(0)\n",
    "pendown()\n",
    "color(\"green\")\n",
    "speed(10)\n",
    "\n",
    "a = Agent4(interactions)\n",
    "e = ColabTurtleEnvironment()\n",
    "\n",
    "outcome = 0\n",
    "for i in range(10):\n",
    "    action = a.action(outcome)\n",
    "    outcome = e.outcome(action)"
   ]
  },
  {
   "cell_type": "code",
   "execution_count": null,
   "id": "98c855dd",
   "metadata": {},
   "outputs": [],
   "source": []
  }
 ],
 "metadata": {
  "kernelspec": {
   "display_name": "Python 3 (ipykernel)",
   "language": "python",
   "name": "python3"
  },
  "language_info": {
   "codemirror_mode": {
    "name": "ipython",
    "version": 3
   },
   "file_extension": ".py",
   "mimetype": "text/x-python",
   "name": "python",
   "nbconvert_exporter": "python",
   "pygments_lexer": "ipython3",
   "version": "3.11.5"
  }
 },
 "nbformat": 4,
 "nbformat_minor": 5
}
