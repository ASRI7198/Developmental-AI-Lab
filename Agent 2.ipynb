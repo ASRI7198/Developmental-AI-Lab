{
 "cells": [
  {
   "cell_type": "code",
   "execution_count": 1,
   "id": "7f8239f9",
   "metadata": {},
   "outputs": [],
   "source": [
    "class Agent:\n",
    "    def __init__(self, valence, Max_Ennui):\n",
    "        \"\"\" Creating our agent \"\"\"\n",
    "        self.valence = valence\n",
    "        self.action = 0\n",
    "        self.pred_outcome = 0\n",
    "\n",
    "        self.Max_Ennui = Max_Ennui\n",
    "        self.memoire = {}\n",
    "        self.listePrefere = [0, 0]  # Action et Outcome\n",
    "        self.Numbre_action_Prefere = 0\n",
    "        self.actionfinal = 0\n",
    "\n",
    "    def Action(self, outcome):\n",
    "        \"\"\" Computing the next action to enact \"\"\"\n",
    "        a = self.valence[self.listePrefere[0]][self.listePrefere[1]]\n",
    "        b = self.valence[self.action][outcome]\n",
    "        if b > a:\n",
    "            self.listePrefere[0] = self.action\n",
    "            self.listePrefere[1] = outcome\n",
    "            self.Numbre_action_Prefere = 0\n",
    "\n",
    "        self.action = self.listePrefere[0]\n",
    "\n",
    "        if self.Numbre_action_Prefere >= self.Max_Ennui:\n",
    "            self.Numbre_action_Prefere = 0\n",
    "            self.action = 1 - self.action\n",
    "\n",
    "        self.Update_Memoire(outcome)\n",
    "        if self.listePrefere[0] == self.action:\n",
    "            self.Numbre_action_Prefere += 1\n",
    "\n",
    "        self.actionfinal = self.action\n",
    "\n",
    "        return self.action\n",
    "\n",
    "    def Update_Memoire(self, outcome):\n",
    "        if self.action not in self.memoire.keys():\n",
    "            self.memoire[self.action] = outcome\n",
    "        elif self.pred_outcome != outcome:\n",
    "            self.memoire[self.actionfinal] = outcome\n",
    "\n",
    "    def Message(self, outcome):\n",
    "        print(f\"Action: {self.action}, Prediction: {self.pred_outcome}, Outcome: {outcome}, \"\n",
    "              f\"Prediction: {self.pred_outcome == outcome}, Valence: {self.valence[self.action][outcome]}\")"
   ]
  },
  {
   "cell_type": "code",
   "execution_count": 2,
   "id": "11a9c1c8",
   "metadata": {},
   "outputs": [],
   "source": [
    "class Environment1:\n",
    "    \"\"\" In Environment 1, action 0 yields outcome 0, action 1 yields outcome 1 \"\"\"\n",
    "\n",
    "    def outcome(self, _action):\n",
    "        # return int(input(\"entre 0 1 ou 2\"))\n",
    "        if _action == 0:\n",
    "            return 0\n",
    "        else:\n",
    "            return 1"
   ]
  },
  {
   "cell_type": "code",
   "execution_count": 3,
   "id": "58ab064d",
   "metadata": {},
   "outputs": [],
   "source": [
    "class Environment2:\n",
    "    \"\"\" In Environment 1, action 0 yields outcome 0, action 1 yields outcome 1 \"\"\"\n",
    "\n",
    "    def outcome(self, _action):\n",
    "        # return int(input(\"entre 0 1 ou 2\"))\n",
    "        if _action == 0:\n",
    "            return 1\n",
    "        else:\n",
    "            return 0"
   ]
  },
  {
   "cell_type": "code",
   "execution_count": 5,
   "id": "b5f252f4",
   "metadata": {},
   "outputs": [
    {
     "name": "stdout",
     "output_type": "stream",
     "text": [
      "Action: 0, Prediction: 0, Outcome: 0, Prediction: True, Valence: -1\n",
      "Action: 0, Prediction: 0, Outcome: 0, Prediction: True, Valence: -1\n",
      "Action: 0, Prediction: 0, Outcome: 0, Prediction: True, Valence: -1\n",
      "Action: 0, Prediction: 0, Outcome: 0, Prediction: True, Valence: -1\n",
      "Action: 1, Prediction: 0, Outcome: 1, Prediction: False, Valence: 1\n",
      "Action: 1, Prediction: 0, Outcome: 1, Prediction: False, Valence: 1\n",
      "Action: 1, Prediction: 0, Outcome: 1, Prediction: False, Valence: 1\n",
      "Action: 1, Prediction: 0, Outcome: 1, Prediction: False, Valence: 1\n",
      "Action: 1, Prediction: 0, Outcome: 1, Prediction: False, Valence: 1\n",
      "Action: 0, Prediction: 0, Outcome: 0, Prediction: True, Valence: -1\n",
      "Action: 1, Prediction: 0, Outcome: 1, Prediction: False, Valence: 1\n",
      "Action: 1, Prediction: 0, Outcome: 1, Prediction: False, Valence: 1\n",
      "Action: 1, Prediction: 0, Outcome: 1, Prediction: False, Valence: 1\n",
      "Action: 1, Prediction: 0, Outcome: 1, Prediction: False, Valence: 1\n",
      "Action: 0, Prediction: 0, Outcome: 0, Prediction: True, Valence: -1\n",
      "Action: 1, Prediction: 0, Outcome: 1, Prediction: False, Valence: 1\n",
      "Action: 1, Prediction: 0, Outcome: 1, Prediction: False, Valence: 1\n",
      "Action: 1, Prediction: 0, Outcome: 1, Prediction: False, Valence: 1\n",
      "Action: 1, Prediction: 0, Outcome: 1, Prediction: False, Valence: 1\n",
      "Action: 0, Prediction: 0, Outcome: 0, Prediction: True, Valence: -1\n"
     ]
    }
   ],
   "source": [
    "valence = [[-1, 1], [-1, 1]]\n",
    "agent = Agent(valence, 4)\n",
    "env = Environment1()\n",
    "outcome = 0\n",
    "# Simulate the agent's interaction with the environment over 20 steps\n",
    "for step in range(20):\n",
    "    action = agent.Action(outcome)\n",
    "    outcome = env.outcome(action)\n",
    "    agent.Message(outcome)\n"
   ]
  },
  {
   "cell_type": "code",
   "execution_count": 6,
   "id": "7c7adc9d",
   "metadata": {},
   "outputs": [
    {
     "name": "stdout",
     "output_type": "stream",
     "text": [
      "Action: 0, Prediction: 0, Outcome: 1, Prediction: False, Valence: 1\n",
      "Action: 0, Prediction: 0, Outcome: 1, Prediction: False, Valence: 1\n",
      "Action: 0, Prediction: 0, Outcome: 1, Prediction: False, Valence: 1\n",
      "Action: 0, Prediction: 0, Outcome: 1, Prediction: False, Valence: 1\n",
      "Action: 0, Prediction: 0, Outcome: 1, Prediction: False, Valence: 1\n",
      "Action: 1, Prediction: 0, Outcome: 0, Prediction: True, Valence: -1\n",
      "Action: 0, Prediction: 0, Outcome: 1, Prediction: False, Valence: 1\n",
      "Action: 0, Prediction: 0, Outcome: 1, Prediction: False, Valence: 1\n",
      "Action: 0, Prediction: 0, Outcome: 1, Prediction: False, Valence: 1\n",
      "Action: 0, Prediction: 0, Outcome: 1, Prediction: False, Valence: 1\n",
      "Action: 1, Prediction: 0, Outcome: 0, Prediction: True, Valence: -1\n",
      "Action: 0, Prediction: 0, Outcome: 1, Prediction: False, Valence: 1\n",
      "Action: 0, Prediction: 0, Outcome: 1, Prediction: False, Valence: 1\n",
      "Action: 0, Prediction: 0, Outcome: 1, Prediction: False, Valence: 1\n",
      "Action: 0, Prediction: 0, Outcome: 1, Prediction: False, Valence: 1\n",
      "Action: 1, Prediction: 0, Outcome: 0, Prediction: True, Valence: -1\n",
      "Action: 0, Prediction: 0, Outcome: 1, Prediction: False, Valence: 1\n",
      "Action: 0, Prediction: 0, Outcome: 1, Prediction: False, Valence: 1\n",
      "Action: 0, Prediction: 0, Outcome: 1, Prediction: False, Valence: 1\n",
      "Action: 0, Prediction: 0, Outcome: 1, Prediction: False, Valence: 1\n"
     ]
    }
   ],
   "source": [
    "valence = [[-1, 1], [-1, 1]]\n",
    "agent = Agent(valence, 4)\n",
    "env = Environment2()\n",
    "outcome = 0\n",
    "# Simulate the agent's interaction with the environment over 20 steps\n",
    "for step in range(20):\n",
    "    action = agent.Action(outcome)\n",
    "    outcome = env.outcome(action)\n",
    "    agent.Message(outcome)"
   ]
  },
  {
   "cell_type": "code",
   "execution_count": 7,
   "id": "db7f5867",
   "metadata": {},
   "outputs": [
    {
     "name": "stdout",
     "output_type": "stream",
     "text": [
      "Action: 0, Prediction: 0, Outcome: 0, Prediction: True, Valence: 1\n",
      "Action: 0, Prediction: 0, Outcome: 0, Prediction: True, Valence: 1\n",
      "Action: 0, Prediction: 0, Outcome: 0, Prediction: True, Valence: 1\n",
      "Action: 0, Prediction: 0, Outcome: 0, Prediction: True, Valence: 1\n",
      "Action: 1, Prediction: 0, Outcome: 1, Prediction: False, Valence: -1\n",
      "Action: 0, Prediction: 0, Outcome: 0, Prediction: True, Valence: 1\n",
      "Action: 0, Prediction: 0, Outcome: 0, Prediction: True, Valence: 1\n",
      "Action: 0, Prediction: 0, Outcome: 0, Prediction: True, Valence: 1\n",
      "Action: 0, Prediction: 0, Outcome: 0, Prediction: True, Valence: 1\n",
      "Action: 1, Prediction: 0, Outcome: 1, Prediction: False, Valence: -1\n",
      "Action: 0, Prediction: 0, Outcome: 0, Prediction: True, Valence: 1\n",
      "Action: 0, Prediction: 0, Outcome: 0, Prediction: True, Valence: 1\n",
      "Action: 0, Prediction: 0, Outcome: 0, Prediction: True, Valence: 1\n",
      "Action: 0, Prediction: 0, Outcome: 0, Prediction: True, Valence: 1\n",
      "Action: 1, Prediction: 0, Outcome: 1, Prediction: False, Valence: -1\n",
      "Action: 0, Prediction: 0, Outcome: 0, Prediction: True, Valence: 1\n",
      "Action: 0, Prediction: 0, Outcome: 0, Prediction: True, Valence: 1\n",
      "Action: 0, Prediction: 0, Outcome: 0, Prediction: True, Valence: 1\n",
      "Action: 0, Prediction: 0, Outcome: 0, Prediction: True, Valence: 1\n",
      "Action: 1, Prediction: 0, Outcome: 1, Prediction: False, Valence: -1\n"
     ]
    }
   ],
   "source": [
    "valence = [[1, -1], [1, -1]]\n",
    "agent = Agent(valence, 4)\n",
    "env = Environment1()\n",
    "outcome = 0\n",
    "# Simulate the agent's interaction with the environment over 20 steps\n",
    "for step in range(20):\n",
    "    action = agent.Action(outcome)\n",
    "    outcome = env.outcome(action)\n",
    "    agent.Message(outcome)"
   ]
  },
  {
   "cell_type": "code",
   "execution_count": 8,
   "id": "4d42a403",
   "metadata": {},
   "outputs": [
    {
     "name": "stdout",
     "output_type": "stream",
     "text": [
      "Action: 0, Prediction: 0, Outcome: 1, Prediction: False, Valence: -1\n",
      "Action: 0, Prediction: 0, Outcome: 1, Prediction: False, Valence: -1\n",
      "Action: 0, Prediction: 0, Outcome: 1, Prediction: False, Valence: -1\n",
      "Action: 0, Prediction: 0, Outcome: 1, Prediction: False, Valence: -1\n",
      "Action: 1, Prediction: 0, Outcome: 0, Prediction: True, Valence: 1\n",
      "Action: 0, Prediction: 0, Outcome: 1, Prediction: False, Valence: -1\n",
      "Action: 0, Prediction: 0, Outcome: 1, Prediction: False, Valence: -1\n",
      "Action: 0, Prediction: 0, Outcome: 1, Prediction: False, Valence: -1\n",
      "Action: 0, Prediction: 0, Outcome: 1, Prediction: False, Valence: -1\n",
      "Action: 1, Prediction: 0, Outcome: 0, Prediction: True, Valence: 1\n",
      "Action: 0, Prediction: 0, Outcome: 1, Prediction: False, Valence: -1\n",
      "Action: 0, Prediction: 0, Outcome: 1, Prediction: False, Valence: -1\n",
      "Action: 0, Prediction: 0, Outcome: 1, Prediction: False, Valence: -1\n",
      "Action: 0, Prediction: 0, Outcome: 1, Prediction: False, Valence: -1\n",
      "Action: 1, Prediction: 0, Outcome: 0, Prediction: True, Valence: 1\n",
      "Action: 0, Prediction: 0, Outcome: 1, Prediction: False, Valence: -1\n",
      "Action: 0, Prediction: 0, Outcome: 1, Prediction: False, Valence: -1\n",
      "Action: 0, Prediction: 0, Outcome: 1, Prediction: False, Valence: -1\n",
      "Action: 0, Prediction: 0, Outcome: 1, Prediction: False, Valence: -1\n",
      "Action: 1, Prediction: 0, Outcome: 0, Prediction: True, Valence: 1\n"
     ]
    }
   ],
   "source": [
    "valence = [[1, -1], [1, -1]]\n",
    "agent = Agent(valence, 4)\n",
    "env = Environment2()\n",
    "outcome = 0\n",
    "# Simulate the agent's interaction with the environment over 20 steps\n",
    "for step in range(20):\n",
    "    action = agent.Action(outcome)\n",
    "    outcome = env.outcome(action)\n",
    "    agent.Message(outcome)"
   ]
  },
  {
   "cell_type": "code",
   "execution_count": null,
   "id": "39faa30b",
   "metadata": {},
   "outputs": [],
   "source": []
  }
 ],
 "metadata": {
  "kernelspec": {
   "display_name": "Python 3 (ipykernel)",
   "language": "python",
   "name": "python3"
  },
  "language_info": {
   "codemirror_mode": {
    "name": "ipython",
    "version": 3
   },
   "file_extension": ".py",
   "mimetype": "text/x-python",
   "name": "python",
   "nbconvert_exporter": "python",
   "pygments_lexer": "ipython3",
   "version": "3.11.5"
  }
 },
 "nbformat": 4,
 "nbformat_minor": 5
}
